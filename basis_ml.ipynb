{
 "cells": [
  {
   "cell_type": "code",
   "execution_count": 15,
   "metadata": {},
   "outputs": [
    {
     "name": "stdout",
     "output_type": "stream",
     "text": [
      "family\n",
      "good\n"
     ]
    }
   ],
   "source": [
    "a=\"family\"\n",
    "b=\"good\" \n",
    "print(a,end=\"\\n\")\n",
    "print(b)\n"
   ]
  },
  {
   "cell_type": "code",
   "execution_count": 16,
   "metadata": {},
   "outputs": [
    {
     "name": "stdout",
     "output_type": "stream",
     "text": [
      "family\tgood\n"
     ]
    }
   ],
   "source": [
    "a=\"family\"\n",
    "b=\"good\" \n",
    "print(a,end=\"\\t\")\n",
    "print(b)\n"
   ]
  },
  {
   "cell_type": "code",
   "execution_count": 17,
   "metadata": {},
   "outputs": [
    {
     "name": "stdout",
     "output_type": "stream",
     "text": [
      "\"a\"\n"
     ]
    }
   ],
   "source": [
    "a=\"family\"\n",
    "b=\"good\" \n",
    "print(\"\\\"a\\\"\")"
   ]
  },
  {
   "cell_type": "code",
   "execution_count": 24,
   "metadata": {},
   "outputs": [],
   "source": [
    "def print_twice(s1, s2):\n",
    "    s1=apple\n",
    "    s2=pine\n",
    "\n",
    "    print(s1)\n",
    "    "
   ]
  },
  {
   "cell_type": "code",
   "execution_count": 25,
   "metadata": {},
   "outputs": [
    {
     "name": "stdout",
     "output_type": "stream",
     "text": [
      "B\n"
     ]
    }
   ],
   "source": [
    "c = 66\n",
    "cAsChr = chr(c)\n",
    "print(cAsChr)"
   ]
  },
  {
   "cell_type": "code",
   "execution_count": 27,
   "metadata": {},
   "outputs": [
    {
     "name": "stdout",
     "output_type": "stream",
     "text": [
      "55.0\n",
      "55\n",
      "<class 'float'>\n"
     ]
    }
   ],
   "source": [
    "floatNum = 55.0\n",
    "\n",
    "print(floatNum)\n",
    "print(intNum)\n",
    "print(type(floatNum))\n"
   ]
  },
  {
   "cell_type": "code",
   "execution_count": 33,
   "metadata": {},
   "outputs": [
    {
     "ename": "TypeError",
     "evalue": "'str' object is not callable",
     "output_type": "error",
     "traceback": [
      "\u001b[1;31m---------------------------------------------------------------------------\u001b[0m",
      "\u001b[1;31mTypeError\u001b[0m                                 Traceback (most recent call last)",
      "\u001b[1;32m<ipython-input-33-f4dd3a82ecfb>\u001b[0m in \u001b[0;36m<module>\u001b[1;34m\u001b[0m\n\u001b[0;32m      1\u001b[0m \u001b[0mfloatNum\u001b[0m \u001b[1;33m=\u001b[0m \u001b[1;36m55\u001b[0m\u001b[1;33m\u001b[0m\u001b[1;33m\u001b[0m\u001b[0m\n\u001b[1;32m----> 2\u001b[1;33m \u001b[0mintNum\u001b[0m \u001b[1;33m=\u001b[0m \u001b[0mint\u001b[0m\u001b[1;33m(\u001b[0m\u001b[0mstr\u001b[0m\u001b[1;33m(\u001b[0m\u001b[0mfloatNum\u001b[0m \u001b[1;33m)\u001b[0m\u001b[1;33m)\u001b[0m\u001b[1;33m\u001b[0m\u001b[1;33m\u001b[0m\u001b[0m\n\u001b[0m\u001b[0;32m      3\u001b[0m \u001b[0mprint\u001b[0m\u001b[1;33m(\u001b[0m\u001b[0mfloatNum\u001b[0m\u001b[1;33m)\u001b[0m\u001b[1;33m\u001b[0m\u001b[1;33m\u001b[0m\u001b[0m\n\u001b[0;32m      4\u001b[0m \u001b[0mprint\u001b[0m\u001b[1;33m(\u001b[0m\u001b[0mintNum\u001b[0m\u001b[1;33m)\u001b[0m\u001b[1;33m\u001b[0m\u001b[1;33m\u001b[0m\u001b[0m\n\u001b[0;32m      5\u001b[0m \u001b[0mprint\u001b[0m\u001b[1;33m(\u001b[0m\u001b[0mtype\u001b[0m\u001b[1;33m(\u001b[0m\u001b[0mfloatNum\u001b[0m\u001b[1;33m)\u001b[0m\u001b[1;33m)\u001b[0m\u001b[1;33m\u001b[0m\u001b[1;33m\u001b[0m\u001b[0m\n",
      "\u001b[1;31mTypeError\u001b[0m: 'str' object is not callable"
     ]
    }
   ],
   "source": [
    "floatNum = 55\n",
    "intNum = int(str(floatNum ))\n",
    "print(floatNum)\n",
    "print(intNum)\n",
    "print(type(floatNum))\n",
    "print(type(intNum))"
   ]
  },
  {
   "cell_type": "code",
   "execution_count": 35,
   "metadata": {},
   "outputs": [
    {
     "name": "stdout",
     "output_type": "stream",
     "text": [
      "請輸入成績70\n",
      "成績及格!\n"
     ]
    }
   ],
   "source": [
    "score = int(input(\"請輸入成績\"))\n",
    "if score >= 60:\n",
    "    print(\"成績及格!\")"
   ]
  },
  {
   "cell_type": "code",
   "execution_count": 38,
   "metadata": {},
   "outputs": [
    {
     "name": "stdout",
     "output_type": "stream",
     "text": [
      "score:80\n",
      "pass\n"
     ]
    }
   ],
   "source": [
    "score=int(input(\"score:\"))\n",
    "if score >= 70:\n",
    "    print(\"pass\")\n",
    "else:\n",
    "    print(\"no pass\")"
   ]
  },
  {
   "cell_type": "code",
   "execution_count": 39,
   "metadata": {},
   "outputs": [
    {
     "name": "stdout",
     "output_type": "stream",
     "text": [
      "a: 3\n",
      "b: 6\n",
      "max:  6\n"
     ]
    }
   ],
   "source": [
    "a = input(\"a: \")\n",
    "b = input(\"b: \")\n",
    "if a > b:\n",
    "    print(\"max: \", a)\n",
    "else: \n",
    "    print(\"max: \", b)"
   ]
  },
  {
   "cell_type": "code",
   "execution_count": 40,
   "metadata": {},
   "outputs": [
    {
     "name": "stdout",
     "output_type": "stream",
     "text": [
      "score: 90\n",
      "Grade is: A\n"
     ]
    }
   ],
   "source": [
    "score = int(input(\"score: \"))\n",
    "if score >= 90:\n",
    "    print('Grade is: A')\n",
    "elif score >= 80:\n",
    "    print('Grade is: B')\n",
    "elif score >= 70:\n",
    "    print('Grade is: C')\n",
    "elif score >= 60:\n",
    "    print('Grade is: D')\n",
    "else:\n",
    "    print('Grade is: F')"
   ]
  },
  {
   "cell_type": "code",
   "execution_count": null,
   "metadata": {},
   "outputs": [],
   "source": [
    "ID = input()\n",
    "year = int(ID[1:3])\n",
    "if year < 4:\n",
    "    print(\"Graduated\")\n",
    "elif year <= 7 and year >= 4:\n",
    "    if year == 7:\n",
    "        print(\"Freshman\")\n",
    "    elif year == 6:\n",
    "        print(\"Sophomore\")\n",
    "    elif year == 5:\n",
    "        print(\"Junior\")\n",
    "    elif year == 4:\n",
    "        print(\"Senior\")\n",
    "else:\n",
    "    print(\"Not Registered Yet\")"
   ]
  },
  {
   "cell_type": "code",
   "execution_count": null,
   "metadata": {},
   "outputs": [],
   "source": []
  },
  {
   "cell_type": "code",
   "execution_count": null,
   "metadata": {},
   "outputs": [],
   "source": []
  }
 ],
 "metadata": {
  "kernelspec": {
   "display_name": "Python 3",
   "language": "python",
   "name": "python3"
  },
  "language_info": {
   "codemirror_mode": {
    "name": "ipython",
    "version": 3
   },
   "file_extension": ".py",
   "mimetype": "text/x-python",
   "name": "python",
   "nbconvert_exporter": "python",
   "pygments_lexer": "ipython3",
   "version": "3.7.4"
  }
 },
 "nbformat": 4,
 "nbformat_minor": 2
}
